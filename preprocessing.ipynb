{
  "nbformat": 4,
  "nbformat_minor": 0,
  "metadata": {
    "colab": {
      "name": "preprocessing.ipynb",
      "provenance": []
    },
    "kernelspec": {
      "name": "python3",
      "display_name": "Python 3"
    }
  },
  "cells": [
    {
      "cell_type": "code",
      "metadata": {
        "id": "Lcga-eMQaxd0",
        "colab_type": "code",
        "colab": {
          "base_uri": "https://localhost:8080/",
          "height": 340
        },
        "outputId": "ec70f9c5-a992-4cd0-b75a-26e7eb761e9b"
      },
      "source": [
        "#mounting drive \n",
        "from google.colab import drive\n",
        "drive.mount('/content/drive/')\n",
        "%cd \"/content/drive/Shared drives/moja global/Deforestation Modelling\"\n",
        "#installing and importing required modules\n",
        "!pip install rasterio\n",
        "import rasterio\n",
        "import rasterio.plot"
      ],
      "execution_count": 1,
      "outputs": [
        {
          "output_type": "stream",
          "text": [
            "Mounted at /content/drive/\n",
            "/content/drive/Shared drives/moja global/Deforestation Modelling\n",
            "Collecting rasterio\n",
            "\u001b[?25l  Downloading https://files.pythonhosted.org/packages/34/2b/c8de31dc2767ef1cdcec980b3fe041776262bcdc859417babaeaad42cf3f/rasterio-1.1.6-cp36-cp36m-manylinux1_x86_64.whl (18.3MB)\n",
            "\u001b[K     |████████████████████████████████| 18.3MB 1.3MB/s \n",
            "\u001b[?25hRequirement already satisfied: numpy in /usr/local/lib/python3.6/dist-packages (from rasterio) (1.18.5)\n",
            "Collecting snuggs>=1.4.1\n",
            "  Downloading https://files.pythonhosted.org/packages/cc/0e/d27d6e806d6c0d1a2cfdc5d1f088e42339a0a54a09c3343f7f81ec8947ea/snuggs-1.4.7-py3-none-any.whl\n",
            "Collecting click-plugins\n",
            "  Downloading https://files.pythonhosted.org/packages/e9/da/824b92d9942f4e472702488857914bdd50f73021efea15b4cad9aca8ecef/click_plugins-1.1.1-py2.py3-none-any.whl\n",
            "Requirement already satisfied: click<8,>=4.0 in /usr/local/lib/python3.6/dist-packages (from rasterio) (7.1.2)\n",
            "Collecting cligj>=0.5\n",
            "  Downloading https://files.pythonhosted.org/packages/e4/be/30a58b4b0733850280d01f8bd132591b4668ed5c7046761098d665ac2174/cligj-0.5.0-py3-none-any.whl\n",
            "Requirement already satisfied: attrs in /usr/local/lib/python3.6/dist-packages (from rasterio) (20.2.0)\n",
            "Collecting affine\n",
            "  Downloading https://files.pythonhosted.org/packages/ac/a6/1a39a1ede71210e3ddaf623982b06ecfc5c5c03741ae659073159184cd3e/affine-2.3.0-py2.py3-none-any.whl\n",
            "Requirement already satisfied: pyparsing>=2.1.6 in /usr/local/lib/python3.6/dist-packages (from snuggs>=1.4.1->rasterio) (2.4.7)\n",
            "Installing collected packages: snuggs, click-plugins, cligj, affine, rasterio\n",
            "Successfully installed affine-2.3.0 click-plugins-1.1.1 cligj-0.5.0 rasterio-1.1.6 snuggs-1.4.7\n"
          ],
          "name": "stdout"
        }
      ]
    },
    {
      "cell_type": "code",
      "metadata": {
        "id": "UURijAC_gFxt",
        "colab_type": "code",
        "colab": {}
      },
      "source": [
        "def poly_to_prox(file_name, input_filepath, raster_filepath, output_filepath):\n",
        "  \"\"\"\n",
        "      It converts a given polygon layer to proximty distance.\n",
        "\n",
        "  Input:\n",
        "      file_name: Name of the file for which proximity distance is to be calculated.\n",
        "      input_filepath: Path of the file for which proximity distance is to be calculated.\n",
        "      raster_filepath: Path where polygon layer converted to raster layer is stored.\n",
        "      output_filepath: Path where proximity distance layer is stored.\n",
        "      \n",
        "  Output: \n",
        "      No Output\n",
        "      \n",
        "  \"\"\"\n",
        "  #creating raster layer of polygon\n",
        "  !gdal_rasterize -l file_name -a osm_id -ts 36501.0 79501.0 -a_nodata 0.0 -te 92.125 8.74975 101.25025 28.625 -ot Byte -of GTiff input_filepath raster_filepath\n",
        "  #Creating proximity layer of raster layer\n",
        "  !gdal_proximity.py -srcband 1 -distunits PIXEL -nodata 0.0 -ot Int16 -of GTiff  raster_filepath output_filepath"
      ],
      "execution_count": 4,
      "outputs": []
    }
  ]
}